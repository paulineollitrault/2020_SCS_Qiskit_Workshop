{
 "cells": [
  {
   "cell_type": "markdown",
   "metadata": {},
   "source": [
    "# Part 1: 50 minutes"
   ]
  },
  {
   "cell_type": "markdown",
   "metadata": {},
   "source": [
    "### 1. Run a Hartree-Fock/STO-3G calculation on a Hydrogen molecule at equilibrium bond length. Use the built-in PySCF driver for example. Extract the 1- and 2-electron integrals, the number of particles, the number of orbitals and the Hartree-Fock energy."
   ]
  },
  {
   "cell_type": "markdown",
   "metadata": {},
   "source": [
    "### 2. Prepare the Hamiltonian in the fermionic representation."
   ]
  },
  {
   "cell_type": "markdown",
   "metadata": {},
   "source": [
    "### 3. Prepare the Hamiltonian in the qubit representation by mapping the fermionic Hamiltonian using the Jordan-Wigner transformation. Print the Pauli terms of the Hamiltonian."
   ]
  },
  {
   "cell_type": "markdown",
   "metadata": {},
   "source": [
    "### 4. Calculate the exact eigenstates of the Hamiltonian by using the built-in ExactEigensolver."
   ]
  },
  {
   "cell_type": "markdown",
   "metadata": {},
   "source": [
    "### 5. Prepare a Hartree-Fock initial state."
   ]
  },
  {
   "cell_type": "markdown",
   "metadata": {},
   "source": [
    "### 6. Create a UCCSD variational form. Use the previously constructed initial state. "
   ]
  },
  {
   "cell_type": "markdown",
   "metadata": {},
   "source": [
    "### 7. Construct and visualize the corresponding circuit with a random set of parameters. Look for the entangling blocks corresponding to a 1-body or a 2-body excitation."
   ]
  },
  {
   "cell_type": "markdown",
   "metadata": {},
   "source": [
    "### 8. Run a VQE calculation on the statevector simulator. Use the COBYLA optimizer."
   ]
  },
  {
   "cell_type": "markdown",
   "metadata": {},
   "source": [
    "# Part 2: 50 minutes"
   ]
  },
  {
   "cell_type": "markdown",
   "metadata": {
    "collapsed": true
   },
   "source": [
    "### 9. Construct the number operator in fermionic form and map it to the qubit form. Visualize the Pauli terms."
   ]
  },
  {
   "cell_type": "markdown",
   "metadata": {},
   "source": [
    "### 10. Get the expectation value of the number operator with the ground state found with the VQE and the statevector simulator."
   ]
  },
  {
   "cell_type": "markdown",
   "metadata": {},
   "source": [
    "### 11. Calculate the excited state energies of the H2 molecules by running a EOM calculation with the previously found ground state."
   ]
  },
  {
   "cell_type": "markdown",
   "metadata": {},
   "source": [
    "### 12. Compare the results with the exact energies obtained from the diagonalization of the Hamiltonian. At the moment qEOM computes the excited states with the same spin and particle number as the ground state. Measure the number operator on the exact eigenvectors to compare the qEOM energies with the correct exact energies. "
   ]
  },
  {
   "cell_type": "markdown",
   "metadata": {},
   "source": [
    "# Part 3: 50 minutes"
   ]
  },
  {
   "cell_type": "markdown",
   "metadata": {},
   "source": [
    "### 13. Create a quantum instance using the qasm simulator and 1000 shots. Re-run the VQE using this quantum instace and compare the results with the previous ones. Notice that the running time increases on the qasm simulator since it simulates the sampling of the wavefunction as it would be done (efficiently) on a quantum hardware."
   ]
  },
  {
   "cell_type": "markdown",
   "metadata": {},
   "source": [
    "### 14. Visualize the histogram representing the calculated ground state."
   ]
  },
  {
   "cell_type": "markdown",
   "metadata": {},
   "source": [
    "### 15. Load you IBMQ account and print the list of backends you have access to."
   ]
  },
  {
   "cell_type": "markdown",
   "metadata": {},
   "source": [
    "### 16. Extract the noise model and the coupling map corresponding to one of the available hardwares (make sure the selected hardware has enough qubits). Create a QuantumInstance using the qasm simulator, 1000 shots and the resulting noise model and coupling map. Re-run the VQE using this quantum instace and compare the results with the previous ones. "
   ]
  },
  {
   "cell_type": "markdown",
   "metadata": {},
   "source": [
    "### 17. Visualize the histogram representing the calculated ground state."
   ]
  }
 ],
 "metadata": {
  "kernelspec": {
   "display_name": "QiskitPip",
   "language": "python",
   "name": "qiskitpip"
  },
  "language_info": {
   "codemirror_mode": {
    "name": "ipython",
    "version": 3
   },
   "file_extension": ".py",
   "mimetype": "text/x-python",
   "name": "python",
   "nbconvert_exporter": "python",
   "pygments_lexer": "ipython3",
   "version": "3.6.9"
  }
 },
 "nbformat": 4,
 "nbformat_minor": 2
}
